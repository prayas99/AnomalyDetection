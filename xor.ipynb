{
  "nbformat": 4,
  "nbformat_minor": 0,
  "metadata": {
    "colab": {
      "name": "Untitled",
      "provenance": [],
      "collapsed_sections": [],
      "authorship_tag": "ABX9TyMAGBNfzEInjASpqdPZ0tHI",
      "include_colab_link": true
    },
    "kernelspec": {
      "name": "python3",
      "display_name": "Python 3"
    },
    "accelerator": "GPU"
  },
  "cells": [
    {
      "cell_type": "markdown",
      "metadata": {
        "id": "view-in-github",
        "colab_type": "text"
      },
      "source": [
        "<a href=\"https://colab.research.google.com/github/prayas99/AnomalyDetection/blob/master/xor.ipynb\" target=\"_parent\"><img src=\"https://colab.research.google.com/assets/colab-badge.svg\" alt=\"Open In Colab\"/></a>"
      ]
    },
    {
      "cell_type": "code",
      "metadata": {
        "id": "dwCGMrFXDh57"
      },
      "source": [
        "import numpy as np\n",
        "import pandas as pd"
      ],
      "execution_count": null,
      "outputs": []
    },
    {
      "cell_type": "code",
      "metadata": {
        "id": "iNVBrHgxLn50"
      },
      "source": [
        "np.random.seed(0)\n",
        "data = 2*np.random.uniform(size=(10000,2))-1"
      ],
      "execution_count": null,
      "outputs": []
    },
    {
      "cell_type": "code",
      "metadata": {
        "id": "B-LrEUJGLyVi",
        "colab": {
          "base_uri": "https://localhost:8080/"
        },
        "outputId": "6e98f7d2-0230-4129-aa4e-a05251b5fa26"
      },
      "source": [
        "data.shape"
      ],
      "execution_count": null,
      "outputs": [
        {
          "output_type": "execute_result",
          "data": {
            "text/plain": [
              "(10000, 2)"
            ]
          },
          "metadata": {
            "tags": []
          },
          "execution_count": 107
        }
      ]
    },
    {
      "cell_type": "code",
      "metadata": {
        "id": "0z9kdQh_5M9Z",
        "colab": {
          "base_uri": "https://localhost:8080/"
        },
        "outputId": "64e6ea84-aa3d-4609-e040-85cba2fa3930"
      },
      "source": [
        "data[0]"
      ],
      "execution_count": null,
      "outputs": [
        {
          "output_type": "execute_result",
          "data": {
            "text/plain": [
              "array([0.09762701, 0.43037873])"
            ]
          },
          "metadata": {
            "tags": []
          },
          "execution_count": 108
        }
      ]
    },
    {
      "cell_type": "code",
      "metadata": {
        "id": "bggx2MomLzwm",
        "colab": {
          "base_uri": "https://localhost:8080/",
          "height": 402
        },
        "outputId": "40cc6a3c-ce73-420a-cd05-c56bc253f779"
      },
      "source": [
        "y = []\n",
        "y = [1 if x[0]*x[1]<0 else 0 for x in data]\n",
        "#y = np.reshape(y,(10000,1))\n",
        "#y.shape\n",
        "df2 = pd.DataFrame(\n",
        "    data, columns=['x1','x2']\n",
        ")\n",
        "df2['y'] = y\n",
        "display(df2)\n",
        "# df = pd.DataFrame({\n",
        "#     'x1':data[0],\n",
        "#     'x2':data[1],\n",
        "#     'y':y\n",
        "# })\n",
        "# df.head()"
      ],
      "execution_count": null,
      "outputs": [
        {
          "output_type": "display_data",
          "data": {
            "text/html": [
              "<div>\n",
              "<style scoped>\n",
              "    .dataframe tbody tr th:only-of-type {\n",
              "        vertical-align: middle;\n",
              "    }\n",
              "\n",
              "    .dataframe tbody tr th {\n",
              "        vertical-align: top;\n",
              "    }\n",
              "\n",
              "    .dataframe thead th {\n",
              "        text-align: right;\n",
              "    }\n",
              "</style>\n",
              "<table border=\"1\" class=\"dataframe\">\n",
              "  <thead>\n",
              "    <tr style=\"text-align: right;\">\n",
              "      <th></th>\n",
              "      <th>x1</th>\n",
              "      <th>x2</th>\n",
              "      <th>y</th>\n",
              "    </tr>\n",
              "  </thead>\n",
              "  <tbody>\n",
              "    <tr>\n",
              "      <th>0</th>\n",
              "      <td>0.097627</td>\n",
              "      <td>0.430379</td>\n",
              "      <td>0</td>\n",
              "    </tr>\n",
              "    <tr>\n",
              "      <th>1</th>\n",
              "      <td>0.205527</td>\n",
              "      <td>0.089766</td>\n",
              "      <td>0</td>\n",
              "    </tr>\n",
              "    <tr>\n",
              "      <th>2</th>\n",
              "      <td>-0.152690</td>\n",
              "      <td>0.291788</td>\n",
              "      <td>1</td>\n",
              "    </tr>\n",
              "    <tr>\n",
              "      <th>3</th>\n",
              "      <td>-0.124826</td>\n",
              "      <td>0.783546</td>\n",
              "      <td>1</td>\n",
              "    </tr>\n",
              "    <tr>\n",
              "      <th>4</th>\n",
              "      <td>0.927326</td>\n",
              "      <td>-0.233117</td>\n",
              "      <td>1</td>\n",
              "    </tr>\n",
              "    <tr>\n",
              "      <th>...</th>\n",
              "      <td>...</td>\n",
              "      <td>...</td>\n",
              "      <td>...</td>\n",
              "    </tr>\n",
              "    <tr>\n",
              "      <th>9995</th>\n",
              "      <td>0.073616</td>\n",
              "      <td>0.057428</td>\n",
              "      <td>0</td>\n",
              "    </tr>\n",
              "    <tr>\n",
              "      <th>9996</th>\n",
              "      <td>0.213897</td>\n",
              "      <td>0.410607</td>\n",
              "      <td>0</td>\n",
              "    </tr>\n",
              "    <tr>\n",
              "      <th>9997</th>\n",
              "      <td>0.907101</td>\n",
              "      <td>0.496349</td>\n",
              "      <td>0</td>\n",
              "    </tr>\n",
              "    <tr>\n",
              "      <th>9998</th>\n",
              "      <td>-0.403467</td>\n",
              "      <td>-0.107088</td>\n",
              "      <td>0</td>\n",
              "    </tr>\n",
              "    <tr>\n",
              "      <th>9999</th>\n",
              "      <td>-0.279747</td>\n",
              "      <td>0.251773</td>\n",
              "      <td>1</td>\n",
              "    </tr>\n",
              "  </tbody>\n",
              "</table>\n",
              "<p>10000 rows × 3 columns</p>\n",
              "</div>"
            ],
            "text/plain": [
              "            x1        x2  y\n",
              "0     0.097627  0.430379  0\n",
              "1     0.205527  0.089766  0\n",
              "2    -0.152690  0.291788  1\n",
              "3    -0.124826  0.783546  1\n",
              "4     0.927326 -0.233117  1\n",
              "...        ...       ... ..\n",
              "9995  0.073616  0.057428  0\n",
              "9996  0.213897  0.410607  0\n",
              "9997  0.907101  0.496349  0\n",
              "9998 -0.403467 -0.107088  0\n",
              "9999 -0.279747  0.251773  1\n",
              "\n",
              "[10000 rows x 3 columns]"
            ]
          },
          "metadata": {
            "tags": []
          }
        }
      ]
    },
    {
      "cell_type": "code",
      "metadata": {
        "id": "k7-V97yOMnRp",
        "colab": {
          "base_uri": "https://localhost:8080/"
        },
        "outputId": "4a40942b-9bc4-44df-e705-e6f51dab56b7"
      },
      "source": [
        "import torch\n",
        "import numpy as np\n",
        "from torchvision import datasets\n",
        "from torchvision import transforms\n",
        "from torch.utils.data.sampler import SubsetRandomSampler\n",
        "from torch.utils.data import Dataset, DataLoader\n",
        "import torch.nn.functional as F\n",
        "class CustomDatasetFromCSV(Dataset):\n",
        "    def __init__(self, data, transform=None):\n",
        "        self.data = data #torch.FloatTensor(data.values.astype('float'))\n",
        "        self.transforms = transforms\n",
        "        self.to_tensor = transforms.ToTensor()\n",
        "\n",
        "    def __getitem__(self, index):\n",
        "        # This method should return only 1 sample and label \n",
        "        # (according to \"index\"), not the whole dataset\n",
        "        # So probably something like this for you:\n",
        "        target = self.data.iloc[index,-1]\n",
        "        data_val = self.data.iloc[index,:-1]\n",
        "        target = torch.tensor(target)\n",
        "        data_val = torch.tensor(data_val,dtype=torch.float32) \n",
        "        return data_val,target\n",
        "\n",
        "    def __len__(self):\n",
        "        return len(self.data)\n",
        "\n",
        "\n",
        "dataset = CustomDatasetFromCSV(df2)\n",
        "batch_size = 16\n",
        "validation_split = .15\n",
        "test_split = .15\n",
        "shuffle_dataset = True\n",
        "random_seed= 42\n",
        "\n",
        "# Creating data indices for training and validation splits:\n",
        "dataset_size = len(dataset)\n",
        "print(dataset_size)\n",
        "indices = list(range(dataset_size))\n",
        "split = int(np.floor((validation_split+test_split) * dataset_size))\n",
        "if shuffle_dataset :\n",
        "    np.random.seed(random_seed)\n",
        "    np.random.shuffle(indices)\n",
        "train_indices, val_indices, test_indices = indices[split:], indices[:split//2], indices[split//2:split]\n",
        "\n",
        "# Creating PT data samplers and loaders:\n",
        "train_sampler = SubsetRandomSampler(train_indices)\n",
        "valid_sampler = SubsetRandomSampler(val_indices)\n",
        "test_sampler = SubsetRandomSampler(test_indices)\n",
        "\n",
        "train_loader = torch.utils.data.DataLoader(dataset, batch_size=batch_size, \n",
        "                                           sampler=train_sampler,drop_last=True)\n",
        "validation_loader = torch.utils.data.DataLoader(dataset, batch_size=batch_size,\n",
        "                                                sampler=valid_sampler,drop_last=True)\n",
        "test_loader = torch.utils.data.DataLoader(dataset, batch_size=1,\n",
        "                                                sampler=test_sampler,drop_last=True)"
      ],
      "execution_count": null,
      "outputs": [
        {
          "output_type": "stream",
          "text": [
            "10000\n"
          ],
          "name": "stdout"
        }
      ]
    },
    {
      "cell_type": "code",
      "metadata": {
        "id": "uIDEi7DC8VGo"
      },
      "source": [
        "class mymodel(torch.nn.Module):\n",
        "    def __init__(self, D_in, H=4, D_out=2):\n",
        "        \"\"\"\n",
        "        In the constructor we construct three nn.Linear instances that we will use\n",
        "        in the forward pass.\n",
        "        \"\"\"\n",
        "        super(mymodel, self).__init__()\n",
        "        self.input_linear = torch.nn.Linear(D_in, H)\n",
        "        self.output_linear = torch.nn.Linear(H, D_out)\n",
        "\n",
        "    def forward(self, x):\n",
        "            # Max pooling over a (2, 2) window\n",
        "            x = F.relu(self.input_linear(x))\n",
        "            x = self.output_linear(x)\n",
        "            return x"
      ],
      "execution_count": null,
      "outputs": []
    },
    {
      "cell_type": "code",
      "metadata": {
        "id": "XcoIGe_L1kpQ",
        "colab": {
          "base_uri": "https://localhost:8080/"
        },
        "outputId": "97670490-a56e-40a6-ee5b-b9e12d14e51c"
      },
      "source": [
        "print(len(train_loader))\n",
        "print(len(validation_loader))\n",
        "print(len(test_loader))"
      ],
      "execution_count": null,
      "outputs": [
        {
          "output_type": "stream",
          "text": [
            "437\n",
            "93\n",
            "93\n"
          ],
          "name": "stdout"
        }
      ]
    },
    {
      "cell_type": "code",
      "metadata": {
        "id": "SjuTZYE6DmRu",
        "colab": {
          "base_uri": "https://localhost:8080/"
        },
        "outputId": "3118a83a-6cd8-40e1-ea32-9ed36b214c2b"
      },
      "source": [
        "D_in = 2; H = 4; D_out = 2\n",
        "model = mymodel(D_in, H, D_out)\n",
        "\n",
        "criterion = torch.nn.CrossEntropyLoss()\n",
        "optimizer = torch.optim.SGD(model.parameters(), lr=1e-3)\n",
        "if torch.cuda.is_available():\n",
        "    model.to('cuda')\n",
        "# Initialize steps\n",
        "step = 0\n",
        "epochs=100\n",
        "train_loss_list = []\n",
        "valid_loss_list = []\n",
        "train_acc_l = []\n",
        "val_acc_l = []\n",
        "# Iterate over number of epochs\n",
        "for e in range(epochs):\n",
        "    running_loss_train = 0 \n",
        "    running_loss_valid = 0\n",
        "    validation_correct = 0\n",
        "    validation_total = 0\n",
        "\n",
        "    training_correct = 0\n",
        "    training_total = 0  \n",
        "                  \n",
        "    \n",
        "\n",
        "    # Iterate over the entire training dataset\n",
        "    # one batch per iteration \n",
        "    for inputs, labels in train_loader:\n",
        "\n",
        "        # Clear the gradients of all optimized tensors\n",
        "        optimizer.zero_grad()\n",
        "        if torch.cuda.is_available():\n",
        "            inputs, labels = inputs.to('cuda'), labels.to('cuda')   \n",
        "        else:\n",
        "            inputs, labels = input_images, labels        \n",
        "        # Forward pass\n",
        "        model.train()\n",
        "        outputs = model.forward(inputs)\n",
        "        _, predicted = torch.max(outputs.data, 1)\n",
        "        #print(predicted,labels)\n",
        "    \n",
        "        #print(predicted,labels)\n",
        "\n",
        "        training_total += labels.size(0)\n",
        "        training_correct += (predicted == labels).sum().item() \n",
        "        #no_grad() prevents tracking history (and using memory)\n",
        "        # with torch.no_grad(): \n",
        "            \n",
        "        #     # Iterate over the entire validation dataset\n",
        "        #     for input_images3, labels3 in train_loader:\n",
        "                \n",
        "        #         # Enable CUDA: use GPUs for model computation\n",
        "        #         if torch.cuda.is_available():\n",
        "        #             input_images3, labels3 = input_images3.to('cuda'), labels3.to('cuda')\n",
        "                \n",
        "        #         # Make predictions \n",
        "        #         outputs3 = model(input_images3)\n",
        "        #         #print(outputs3)\n",
        "        #         _, predicted3 = torch.max(outputs3.data, 1)\n",
        "        #         #print(predicted2,labels2)\n",
        "                \n",
        "        #         # Count total and correct predictions\n",
        "  \n",
        "\n",
        "        \n",
        "        train_loss = criterion(outputs, labels)\n",
        "        \n",
        "        train_acc = training_correct / training_total\n",
        "        # Backward pass\n",
        "        train_loss.backward()\n",
        "        optimizer.step()\n",
        "        \n",
        "        # Calculate and print running training loss\n",
        "        running_loss_train += train_loss.item()   \n",
        "        \n",
        "    with torch.no_grad():    \n",
        "            #count=0         \n",
        "            # Iterate over the entire validation dataset\n",
        "            for input_images2, labels2 in validation_loader:\n",
        "                \n",
        "                # Enable CUDA: use GPUs for model computation\n",
        "                #count+=1\n",
        "                #print(count)\n",
        "                if torch.cuda.is_available():\n",
        "                    input_images2, labels2 = input_images2.to('cuda'), labels2.to('cuda')\n",
        "                \n",
        "                # Make predictions \n",
        "                outputs2 = model.forward(input_images2)\n",
        "                _, predicted2 = torch.max(outputs2.data, 1)\n",
        "                #print(predicted2,labels2)\n",
        "                \n",
        "                # Count total and correct predictions\n",
        "                validation_total += labels2.size(0)\n",
        "                validation_correct += (predicted2 == labels2).sum().item()   \n",
        "                valid_loss = criterion(outputs2, labels2)\n",
        "                val_acc = validation_correct / validation_total\n",
        "                running_loss_valid += valid_loss.item()  \n",
        "    \n",
        "    print(\"Epoch: {}/{}... \".format(e+1, epochs),\n",
        "          \"| Train Loss: {:.4f}\".format(running_loss_train/len(train_loader)),\n",
        "          \"| Val Loss: {:.4f}\".format(running_loss_valid/len(validation_loader)),\n",
        "          \"| Train Acc: {:.4f}\".format(train_acc),\n",
        "          \"| Val Acc: {:.4f}\".format(val_acc))\n",
        "    train_loss_list.append(running_loss_train/len(train_loader))\n",
        "    valid_loss_list.append(running_loss_valid/len(validation_loader))\n",
        "    train_acc_l.append(train_acc)\n",
        "    val_acc_l.append(val_acc)\n",
        "          \n",
        "    running_loss_train = 0\n",
        "    running_loss_valid = 0"
      ],
      "execution_count": null,
      "outputs": [
        {
          "output_type": "stream",
          "text": [
            "Epoch: 1/100...  | Train Loss: 0.7000 | Val Loss: 0.6966 | Train Acc: 0.5001 | Val Acc: 0.5054\n",
            "Epoch: 2/100...  | Train Loss: 0.6957 | Val Loss: 0.6928 | Train Acc: 0.4999 | Val Acc: 0.5047\n",
            "Epoch: 3/100...  | Train Loss: 0.6921 | Val Loss: 0.6895 | Train Acc: 0.5113 | Val Acc: 0.5370\n",
            "Epoch: 4/100...  | Train Loss: 0.6889 | Val Loss: 0.6863 | Train Acc: 0.4874 | Val Acc: 0.4630\n",
            "Epoch: 5/100...  | Train Loss: 0.6860 | Val Loss: 0.6835 | Train Acc: 0.3927 | Val Acc: 0.3999\n",
            "Epoch: 6/100...  | Train Loss: 0.6833 | Val Loss: 0.6806 | Train Acc: 0.4492 | Val Acc: 0.4671\n",
            "Epoch: 7/100...  | Train Loss: 0.6807 | Val Loss: 0.6776 | Train Acc: 0.4990 | Val Acc: 0.5074\n",
            "Epoch: 8/100...  | Train Loss: 0.6782 | Val Loss: 0.6750 | Train Acc: 0.5290 | Val Acc: 0.5249\n",
            "Epoch: 9/100...  | Train Loss: 0.6758 | Val Loss: 0.6728 | Train Acc: 0.5409 | Val Acc: 0.5430\n",
            "Epoch: 10/100...  | Train Loss: 0.6733 | Val Loss: 0.6698 | Train Acc: 0.5536 | Val Acc: 0.5578\n",
            "Epoch: 11/100...  | Train Loss: 0.6710 | Val Loss: 0.6676 | Train Acc: 0.5645 | Val Acc: 0.5659\n",
            "Epoch: 12/100...  | Train Loss: 0.6687 | Val Loss: 0.6647 | Train Acc: 0.5702 | Val Acc: 0.5706\n",
            "Epoch: 13/100...  | Train Loss: 0.6666 | Val Loss: 0.6626 | Train Acc: 0.5794 | Val Acc: 0.5719\n",
            "Epoch: 14/100...  | Train Loss: 0.6644 | Val Loss: 0.6600 | Train Acc: 0.5825 | Val Acc: 0.5880\n",
            "Epoch: 15/100...  | Train Loss: 0.6624 | Val Loss: 0.6581 | Train Acc: 0.5915 | Val Acc: 0.5901\n",
            "Epoch: 16/100...  | Train Loss: 0.6603 | Val Loss: 0.6560 | Train Acc: 0.5950 | Val Acc: 0.5941\n",
            "Epoch: 17/100...  | Train Loss: 0.6582 | Val Loss: 0.6533 | Train Acc: 0.5987 | Val Acc: 0.6015\n",
            "Epoch: 18/100...  | Train Loss: 0.6563 | Val Loss: 0.6520 | Train Acc: 0.6034 | Val Acc: 0.6055\n",
            "Epoch: 19/100...  | Train Loss: 0.6544 | Val Loss: 0.6490 | Train Acc: 0.6053 | Val Acc: 0.6095\n",
            "Epoch: 20/100...  | Train Loss: 0.6526 | Val Loss: 0.6470 | Train Acc: 0.6054 | Val Acc: 0.6129\n",
            "Epoch: 21/100...  | Train Loss: 0.6507 | Val Loss: 0.6454 | Train Acc: 0.6070 | Val Acc: 0.6163\n",
            "Epoch: 22/100...  | Train Loss: 0.6489 | Val Loss: 0.6429 | Train Acc: 0.6123 | Val Acc: 0.6216\n",
            "Epoch: 23/100...  | Train Loss: 0.6474 | Val Loss: 0.6416 | Train Acc: 0.6134 | Val Acc: 0.6230\n",
            "Epoch: 24/100...  | Train Loss: 0.6455 | Val Loss: 0.6400 | Train Acc: 0.6158 | Val Acc: 0.6257\n",
            "Epoch: 25/100...  | Train Loss: 0.6439 | Val Loss: 0.6383 | Train Acc: 0.6173 | Val Acc: 0.6290\n",
            "Epoch: 26/100...  | Train Loss: 0.6423 | Val Loss: 0.6359 | Train Acc: 0.6203 | Val Acc: 0.6331\n",
            "Epoch: 27/100...  | Train Loss: 0.6407 | Val Loss: 0.6350 | Train Acc: 0.6206 | Val Acc: 0.6331\n",
            "Epoch: 28/100...  | Train Loss: 0.6392 | Val Loss: 0.6329 | Train Acc: 0.6221 | Val Acc: 0.6384\n",
            "Epoch: 29/100...  | Train Loss: 0.6375 | Val Loss: 0.6320 | Train Acc: 0.6239 | Val Acc: 0.6371\n",
            "Epoch: 30/100...  | Train Loss: 0.6361 | Val Loss: 0.6295 | Train Acc: 0.6241 | Val Acc: 0.6411\n",
            "Epoch: 31/100...  | Train Loss: 0.6347 | Val Loss: 0.6275 | Train Acc: 0.6267 | Val Acc: 0.6431\n",
            "Epoch: 32/100...  | Train Loss: 0.6334 | Val Loss: 0.6266 | Train Acc: 0.6257 | Val Acc: 0.6431\n",
            "Epoch: 33/100...  | Train Loss: 0.6319 | Val Loss: 0.6245 | Train Acc: 0.6274 | Val Acc: 0.6458\n",
            "Epoch: 34/100...  | Train Loss: 0.6307 | Val Loss: 0.6233 | Train Acc: 0.6260 | Val Acc: 0.6478\n",
            "Epoch: 35/100...  | Train Loss: 0.6293 | Val Loss: 0.6223 | Train Acc: 0.6289 | Val Acc: 0.6485\n",
            "Epoch: 36/100...  | Train Loss: 0.6283 | Val Loss: 0.6212 | Train Acc: 0.6283 | Val Acc: 0.6465\n",
            "Epoch: 37/100...  | Train Loss: 0.6269 | Val Loss: 0.6183 | Train Acc: 0.6309 | Val Acc: 0.6519\n",
            "Epoch: 38/100...  | Train Loss: 0.6257 | Val Loss: 0.6177 | Train Acc: 0.6299 | Val Acc: 0.6546\n",
            "Epoch: 39/100...  | Train Loss: 0.6245 | Val Loss: 0.6166 | Train Acc: 0.6329 | Val Acc: 0.6546\n",
            "Epoch: 40/100...  | Train Loss: 0.6234 | Val Loss: 0.6159 | Train Acc: 0.6329 | Val Acc: 0.6546\n",
            "Epoch: 41/100...  | Train Loss: 0.6223 | Val Loss: 0.6145 | Train Acc: 0.6332 | Val Acc: 0.6546\n",
            "Epoch: 42/100...  | Train Loss: 0.6212 | Val Loss: 0.6134 | Train Acc: 0.6330 | Val Acc: 0.6546\n",
            "Epoch: 43/100...  | Train Loss: 0.6202 | Val Loss: 0.6120 | Train Acc: 0.6356 | Val Acc: 0.6546\n",
            "Epoch: 44/100...  | Train Loss: 0.6191 | Val Loss: 0.6096 | Train Acc: 0.6354 | Val Acc: 0.6606\n",
            "Epoch: 45/100...  | Train Loss: 0.6181 | Val Loss: 0.6096 | Train Acc: 0.6360 | Val Acc: 0.6586\n",
            "Epoch: 46/100...  | Train Loss: 0.6169 | Val Loss: 0.6084 | Train Acc: 0.6367 | Val Acc: 0.6593\n",
            "Epoch: 47/100...  | Train Loss: 0.6161 | Val Loss: 0.6076 | Train Acc: 0.6369 | Val Acc: 0.6579\n",
            "Epoch: 48/100...  | Train Loss: 0.6150 | Val Loss: 0.6065 | Train Acc: 0.6373 | Val Acc: 0.6606\n",
            "Epoch: 49/100...  | Train Loss: 0.6140 | Val Loss: 0.6052 | Train Acc: 0.6379 | Val Acc: 0.6620\n",
            "Epoch: 50/100...  | Train Loss: 0.6129 | Val Loss: 0.6029 | Train Acc: 0.6392 | Val Acc: 0.6633\n",
            "Epoch: 51/100...  | Train Loss: 0.6119 | Val Loss: 0.6024 | Train Acc: 0.6410 | Val Acc: 0.6626\n",
            "Epoch: 52/100...  | Train Loss: 0.6110 | Val Loss: 0.6015 | Train Acc: 0.6407 | Val Acc: 0.6640\n",
            "Epoch: 53/100...  | Train Loss: 0.6101 | Val Loss: 0.6002 | Train Acc: 0.6416 | Val Acc: 0.6653\n",
            "Epoch: 54/100...  | Train Loss: 0.6092 | Val Loss: 0.5994 | Train Acc: 0.6420 | Val Acc: 0.6633\n",
            "Epoch: 55/100...  | Train Loss: 0.6081 | Val Loss: 0.5988 | Train Acc: 0.6417 | Val Acc: 0.6640\n",
            "Epoch: 56/100...  | Train Loss: 0.6071 | Val Loss: 0.5965 | Train Acc: 0.6433 | Val Acc: 0.6667\n",
            "Epoch: 57/100...  | Train Loss: 0.6060 | Val Loss: 0.5951 | Train Acc: 0.6436 | Val Acc: 0.6680\n",
            "Epoch: 58/100...  | Train Loss: 0.6051 | Val Loss: 0.5948 | Train Acc: 0.6450 | Val Acc: 0.6660\n",
            "Epoch: 59/100...  | Train Loss: 0.6039 | Val Loss: 0.5928 | Train Acc: 0.6447 | Val Acc: 0.6700\n",
            "Epoch: 60/100...  | Train Loss: 0.6027 | Val Loss: 0.5921 | Train Acc: 0.6452 | Val Acc: 0.6700\n",
            "Epoch: 61/100...  | Train Loss: 0.6018 | Val Loss: 0.5920 | Train Acc: 0.6450 | Val Acc: 0.6660\n",
            "Epoch: 62/100...  | Train Loss: 0.6006 | Val Loss: 0.5904 | Train Acc: 0.6460 | Val Acc: 0.6667\n",
            "Epoch: 63/100...  | Train Loss: 0.5993 | Val Loss: 0.5891 | Train Acc: 0.6459 | Val Acc: 0.6680\n",
            "Epoch: 64/100...  | Train Loss: 0.5982 | Val Loss: 0.5869 | Train Acc: 0.6459 | Val Acc: 0.6687\n",
            "Epoch: 65/100...  | Train Loss: 0.5970 | Val Loss: 0.5852 | Train Acc: 0.6457 | Val Acc: 0.6680\n",
            "Epoch: 66/100...  | Train Loss: 0.5955 | Val Loss: 0.5840 | Train Acc: 0.6485 | Val Acc: 0.6680\n",
            "Epoch: 67/100...  | Train Loss: 0.5942 | Val Loss: 0.5840 | Train Acc: 0.6486 | Val Acc: 0.6680\n",
            "Epoch: 68/100...  | Train Loss: 0.5926 | Val Loss: 0.5808 | Train Acc: 0.6499 | Val Acc: 0.6694\n",
            "Epoch: 69/100...  | Train Loss: 0.5910 | Val Loss: 0.5797 | Train Acc: 0.6497 | Val Acc: 0.6694\n",
            "Epoch: 70/100...  | Train Loss: 0.5895 | Val Loss: 0.5776 | Train Acc: 0.6502 | Val Acc: 0.6707\n",
            "Epoch: 71/100...  | Train Loss: 0.5878 | Val Loss: 0.5761 | Train Acc: 0.6503 | Val Acc: 0.6707\n",
            "Epoch: 72/100...  | Train Loss: 0.5860 | Val Loss: 0.5754 | Train Acc: 0.6502 | Val Acc: 0.6707\n",
            "Epoch: 73/100...  | Train Loss: 0.5840 | Val Loss: 0.5734 | Train Acc: 0.6503 | Val Acc: 0.6720\n",
            "Epoch: 74/100...  | Train Loss: 0.5822 | Val Loss: 0.5716 | Train Acc: 0.6520 | Val Acc: 0.6714\n",
            "Epoch: 75/100...  | Train Loss: 0.5799 | Val Loss: 0.5686 | Train Acc: 0.6525 | Val Acc: 0.6720\n",
            "Epoch: 76/100...  | Train Loss: 0.5778 | Val Loss: 0.5661 | Train Acc: 0.6529 | Val Acc: 0.6734\n",
            "Epoch: 77/100...  | Train Loss: 0.5756 | Val Loss: 0.5644 | Train Acc: 0.6532 | Val Acc: 0.6714\n",
            "Epoch: 78/100...  | Train Loss: 0.5730 | Val Loss: 0.5618 | Train Acc: 0.6540 | Val Acc: 0.6734\n",
            "Epoch: 79/100...  | Train Loss: 0.5708 | Val Loss: 0.5603 | Train Acc: 0.6533 | Val Acc: 0.6700\n",
            "Epoch: 80/100...  | Train Loss: 0.5684 | Val Loss: 0.5571 | Train Acc: 0.6550 | Val Acc: 0.6714\n",
            "Epoch: 81/100...  | Train Loss: 0.5663 | Val Loss: 0.5549 | Train Acc: 0.6547 | Val Acc: 0.6734\n",
            "Epoch: 82/100...  | Train Loss: 0.5640 | Val Loss: 0.5526 | Train Acc: 0.6655 | Val Acc: 0.6888\n",
            "Epoch: 83/100...  | Train Loss: 0.5615 | Val Loss: 0.5510 | Train Acc: 0.6878 | Val Acc: 0.6989\n",
            "Epoch: 84/100...  | Train Loss: 0.5589 | Val Loss: 0.5482 | Train Acc: 0.6999 | Val Acc: 0.7097\n",
            "Epoch: 85/100...  | Train Loss: 0.5567 | Val Loss: 0.5450 | Train Acc: 0.7072 | Val Acc: 0.7204\n",
            "Epoch: 86/100...  | Train Loss: 0.5542 | Val Loss: 0.5435 | Train Acc: 0.7138 | Val Acc: 0.7305\n",
            "Epoch: 87/100...  | Train Loss: 0.5514 | Val Loss: 0.5406 | Train Acc: 0.7197 | Val Acc: 0.7392\n",
            "Epoch: 88/100...  | Train Loss: 0.5492 | Val Loss: 0.5377 | Train Acc: 0.7297 | Val Acc: 0.7433\n",
            "Epoch: 89/100...  | Train Loss: 0.5465 | Val Loss: 0.5364 | Train Acc: 0.7351 | Val Acc: 0.7473\n",
            "Epoch: 90/100...  | Train Loss: 0.5440 | Val Loss: 0.5335 | Train Acc: 0.7426 | Val Acc: 0.7500\n",
            "Epoch: 91/100...  | Train Loss: 0.5413 | Val Loss: 0.5305 | Train Acc: 0.7497 | Val Acc: 0.7560\n",
            "Epoch: 92/100...  | Train Loss: 0.5388 | Val Loss: 0.5277 | Train Acc: 0.7526 | Val Acc: 0.7628\n",
            "Epoch: 93/100...  | Train Loss: 0.5360 | Val Loss: 0.5266 | Train Acc: 0.7612 | Val Acc: 0.7661\n",
            "Epoch: 94/100...  | Train Loss: 0.5334 | Val Loss: 0.5226 | Train Acc: 0.7649 | Val Acc: 0.7715\n",
            "Epoch: 95/100...  | Train Loss: 0.5308 | Val Loss: 0.5205 | Train Acc: 0.7722 | Val Acc: 0.7796\n",
            "Epoch: 96/100...  | Train Loss: 0.5278 | Val Loss: 0.5170 | Train Acc: 0.7776 | Val Acc: 0.7849\n",
            "Epoch: 97/100...  | Train Loss: 0.5251 | Val Loss: 0.5151 | Train Acc: 0.7830 | Val Acc: 0.7863\n",
            "Epoch: 98/100...  | Train Loss: 0.5224 | Val Loss: 0.5116 | Train Acc: 0.7876 | Val Acc: 0.7937\n",
            "Epoch: 99/100...  | Train Loss: 0.5192 | Val Loss: 0.5095 | Train Acc: 0.7905 | Val Acc: 0.7964\n",
            "Epoch: 100/100...  | Train Loss: 0.5165 | Val Loss: 0.5064 | Train Acc: 0.7936 | Val Acc: 0.8011\n"
          ],
          "name": "stdout"
        }
      ]
    },
    {
      "cell_type": "code",
      "metadata": {
        "id": "6aKRlXfqHjG3",
        "colab": {
          "base_uri": "https://localhost:8080/",
          "height": 344
        },
        "outputId": "c7873eb9-a033-4c41-8d67-81388f529178"
      },
      "source": [
        "import matplotlib.pyplot as plt\n",
        "plt.rcParams.update({'font.size': 15})\n",
        "plt.figure(figsize=(10,5))\n",
        "# train_loss_list2 = [x/len(train_loader) for x in train_loss_list]\n",
        "# valid_loss_list2 = [x/len(validation_loader) for x in valid_loss_list]\n",
        "plt.plot(train_loss_list,c='g',label=\"Training Loss\",linewidth=2)\n",
        "plt.plot(valid_loss_list,c='r',label=\"Validation Loss\",linewidth=2)\n",
        "plt.xlabel('Epochs')\n",
        "plt.ylabel('Loss')\n",
        "plt.xlim(1,100)\n",
        "plt.legend()\n",
        "plt.show()"
      ],
      "execution_count": null,
      "outputs": [
        {
          "output_type": "display_data",
          "data": {
            "image/png": "[encoded data removed]",
            "text/plain": [
              "<Figure size 720x360 with 1 Axes>"
            ]
          },
          "metadata": {
            "tags": [],
            "needs_background": "light"
          }
        }
      ]
    },
    {
      "cell_type": "code",
      "metadata": {
        "id": "4xXrF35vY7V2",
        "colab": {
          "base_uri": "https://localhost:8080/"
        },
        "outputId": "4b1bd401-a398-4c0d-8d78-e75c8b4771e0"
      },
      "source": [
        "print(len(train_acc_l))"
      ],
      "execution_count": null,
      "outputs": [
        {
          "output_type": "stream",
          "text": [
            "100\n"
          ],
          "name": "stdout"
        }
      ]
    },
    {
      "cell_type": "code",
      "metadata": {
        "id": "64qtcRMkP5Rq",
        "colab": {
          "base_uri": "https://localhost:8080/",
          "height": 344
        },
        "outputId": "ccd64905-f387-4d01-b0ee-f992ad7ca5d0"
      },
      "source": [
        "import matplotlib.pyplot as plt\n",
        "plt.rcParams.update({'font.size': 15})\n",
        "plt.figure(figsize=(10,5))\n",
        "# train_loss_list2 = [x/len(train_loader) for x in train_loss_list]\n",
        "# valid_loss_list2 = [x/len(validation_loader) for x in valid_loss_list]\n",
        "plt.plot(train_acc_l,c='g',label=\"Training Acc\",linewidth=2)\n",
        "plt.plot(val_acc_l,c='r',label=\"Validation Acc\",linewidth=2)\n",
        "plt.xlabel('Epochs')\n",
        "plt.ylabel('Loss')\n",
        "plt.xlim(1,100)\n",
        "plt.legend()\n",
        "plt.show()"
      ],
      "execution_count": null,
      "outputs": [
        {
          "output_type": "display_data",
          "data": {
            "image/png": "[encoded data removed]",
            "text/plain": [
              "<Figure size 720x360 with 1 Axes>"
            ]
          },
          "metadata": {
            "tags": [],
            "needs_background": "light"
          }
        }
      ]
    },
    {
      "cell_type": "code",
      "metadata": {
        "id": "7a9bY7HeAOa_",
        "colab": {
          "base_uri": "https://localhost:8080/"
        },
        "outputId": "7fc6b389-41fb-4259-8264-ece0447946b1"
      },
      "source": [
        "H_list = [2,4,6,8,10]\n",
        "dict_trainL = {}\n",
        "dict_valL = {}\n",
        "dict_trainAcc={}\n",
        "dict_valAcc={}\n",
        "\n",
        "for H in H_list:\n",
        "    D_in = 2; H = H; D_out = 2\n",
        "    model = mymodel(D_in, H, D_out)\n",
        "\n",
        "    criterion = torch.nn.CrossEntropyLoss()\n",
        "    optimizer = torch.optim.SGD(model.parameters(), lr=1e-3)\n",
        "    if torch.cuda.is_available():\n",
        "        model.to('cuda')\n",
        "    # Initialize steps\n",
        "    step = 0\n",
        "    epochs = 20\n",
        "    train_loss_list = []\n",
        "    valid_loss_list = []\n",
        "    train_acc_l = []\n",
        "    val_acc_l = []\n",
        "    # Iterate over number of epochs\n",
        "    for e in range(epochs):\n",
        "        running_loss_train = 0 \n",
        "        running_loss_valid = 0\n",
        "        validation_correct = 0\n",
        "        validation_total = 0\n",
        "\n",
        "        training_correct = 0\n",
        "        training_total = 0  \n",
        "                      \n",
        "        \n",
        "\n",
        "        # Iterate over the entire training dataset\n",
        "        # one batch per iteration \n",
        "        for inputs, labels in train_loader:\n",
        "\n",
        "            # Clear the gradients of all optimized tensors\n",
        "            optimizer.zero_grad()\n",
        "            if torch.cuda.is_available():\n",
        "                inputs, labels = inputs.to('cuda'), labels.to('cuda')   \n",
        "            else:\n",
        "                inputs, labels = input_images, labels        \n",
        "            # Forward pass\n",
        "            model.train()\n",
        "            outputs = model.forward(inputs)\n",
        "            _, predicted = torch.max(outputs.data, 1)\n",
        "            #print(predicted,labels)\n",
        "        \n",
        "            #print(predicted,labels)\n",
        "\n",
        "            training_total += labels.size(0)\n",
        "            training_correct += (predicted == labels).sum().item() \n",
        "            #no_grad() prevents tracking history (and using memory)\n",
        "            # with torch.no_grad(): \n",
        "                \n",
        "            #     # Iterate over the entire validation dataset\n",
        "            #     for input_images3, labels3 in train_loader:\n",
        "                    \n",
        "            #         # Enable CUDA: use GPUs for model computation\n",
        "            #         if torch.cuda.is_available():\n",
        "            #             input_images3, labels3 = input_images3.to('cuda'), labels3.to('cuda')\n",
        "                    \n",
        "            #         # Make predictions \n",
        "            #         outputs3 = model(input_images3)\n",
        "            #         #print(outputs3)\n",
        "            #         _, predicted3 = torch.max(outputs3.data, 1)\n",
        "            #         #print(predicted2,labels2)\n",
        "                    \n",
        "            #         # Count total and correct predictions\n",
        "      \n",
        "\n",
        "            \n",
        "            train_loss = criterion(outputs, labels)\n",
        "            \n",
        "            train_acc = training_correct / training_total\n",
        "            # Backward pass\n",
        "            train_loss.backward()\n",
        "            optimizer.step()\n",
        "            \n",
        "            # Calculate and print running training loss\n",
        "            running_loss_train += train_loss.item()   \n",
        "            \n",
        "        with torch.no_grad():    \n",
        "                #count=0         \n",
        "                # Iterate over the entire validation dataset\n",
        "                for input_images2, labels2 in validation_loader:\n",
        "                    \n",
        "                    # Enable CUDA: use GPUs for model computation\n",
        "                    #count+=1\n",
        "                    #print(count)\n",
        "                    if torch.cuda.is_available():\n",
        "                        input_images2, labels2 = input_images2.to('cuda'), labels2.to('cuda')\n",
        "                    \n",
        "                    # Make predictions \n",
        "                    outputs2 = model.forward(input_images2)\n",
        "                    _, predicted2 = torch.max(outputs2.data, 1)\n",
        "                    #print(predicted2,labels2)\n",
        "                    \n",
        "                    # Count total and correct predictions\n",
        "                    validation_total += labels2.size(0)\n",
        "                    validation_correct += (predicted2 == labels2).sum().item()   \n",
        "                    valid_loss = criterion(outputs2, labels2)\n",
        "                    val_acc = validation_correct / validation_total\n",
        "                    running_loss_valid += valid_loss.item()  \n",
        "        \n",
        "        print(\"Epoch: {}/{}... \".format(e+1, epochs),\n",
        "              \"| Train Loss: {:.4f}\".format(running_loss_train/len(train_loader)),\n",
        "              \"| Val Loss: {:.4f}\".format(running_loss_valid/len(validation_loader)),\n",
        "              \"| Train Acc: {:.4f}\".format(train_acc),\n",
        "              \"| Val Acc: {:.4f}\".format(val_acc))\n",
        "        train_loss_list.append(running_loss_train/len(train_loader))\n",
        "        valid_loss_list.append(running_loss_valid/len(validation_loader))\n",
        "        train_acc_l.append(train_acc)\n",
        "        val_acc_l.append(val_acc)\n",
        "              \n",
        "        running_loss_train = 0\n",
        "        running_loss_valid = 0\n",
        "    dict_trainL[H] = train_loss_list\n",
        "    dict_valL[H] = valid_loss_list\n",
        "    dict_trainAcc[H] = train_acc\n",
        "    dict_valAcc[H] = val_acc"
      ],
      "execution_count": null,
      "outputs": [
        {
          "output_type": "stream",
          "text": [
            "Epoch: 1/20...  | Train Loss: 0.7147 | Val Loss: 0.7067 | Train Acc: 0.4999 | Val Acc: 0.5040\n",
            "Epoch: 2/20...  | Train Loss: 0.7023 | Val Loss: 0.6969 | Train Acc: 0.4999 | Val Acc: 0.5040\n",
            "Epoch: 3/20...  | Train Loss: 0.6932 | Val Loss: 0.6896 | Train Acc: 0.5003 | Val Acc: 0.5047\n",
            "Epoch: 4/20...  | Train Loss: 0.6867 | Val Loss: 0.6845 | Train Acc: 0.5000 | Val Acc: 0.5034\n",
            "Epoch: 5/20...  | Train Loss: 0.6815 | Val Loss: 0.6802 | Train Acc: 0.4999 | Val Acc: 0.5027\n",
            "Epoch: 6/20...  | Train Loss: 0.6770 | Val Loss: 0.6766 | Train Acc: 0.5003 | Val Acc: 0.5013\n",
            "Epoch: 7/20...  | Train Loss: 0.6731 | Val Loss: 0.6727 | Train Acc: 0.5001 | Val Acc: 0.5047\n",
            "Epoch: 8/20...  | Train Loss: 0.6693 | Val Loss: 0.6692 | Train Acc: 0.5001 | Val Acc: 0.5040\n",
            "Epoch: 9/20...  | Train Loss: 0.6656 | Val Loss: 0.6660 | Train Acc: 0.5003 | Val Acc: 0.5034\n",
            "Epoch: 10/20...  | Train Loss: 0.6620 | Val Loss: 0.6630 | Train Acc: 0.5001 | Val Acc: 0.5034\n",
            "Epoch: 11/20...  | Train Loss: 0.6587 | Val Loss: 0.6605 | Train Acc: 0.6008 | Val Acc: 0.6129\n",
            "Epoch: 12/20...  | Train Loss: 0.6556 | Val Loss: 0.6575 | Train Acc: 0.6329 | Val Acc: 0.6223\n",
            "Epoch: 13/20...  | Train Loss: 0.6527 | Val Loss: 0.6553 | Train Acc: 0.6373 | Val Acc: 0.6237\n",
            "Epoch: 14/20...  | Train Loss: 0.6500 | Val Loss: 0.6530 | Train Acc: 0.6380 | Val Acc: 0.6237\n",
            "Epoch: 15/20...  | Train Loss: 0.6475 | Val Loss: 0.6506 | Train Acc: 0.6384 | Val Acc: 0.6230\n",
            "Epoch: 16/20...  | Train Loss: 0.6452 | Val Loss: 0.6486 | Train Acc: 0.6382 | Val Acc: 0.6243\n",
            "Epoch: 17/20...  | Train Loss: 0.6431 | Val Loss: 0.6469 | Train Acc: 0.6393 | Val Acc: 0.6223\n",
            "Epoch: 18/20...  | Train Loss: 0.6409 | Val Loss: 0.6449 | Train Acc: 0.6414 | Val Acc: 0.6216\n",
            "Epoch: 19/20...  | Train Loss: 0.6390 | Val Loss: 0.6438 | Train Acc: 0.6393 | Val Acc: 0.6216\n",
            "Epoch: 20/20...  | Train Loss: 0.6371 | Val Loss: 0.6420 | Train Acc: 0.6396 | Val Acc: 0.6190\n",
            "Epoch: 1/20...  | Train Loss: 0.6989 | Val Loss: 0.6966 | Train Acc: 0.4887 | Val Acc: 0.5444\n",
            "Epoch: 2/20...  | Train Loss: 0.6978 | Val Loss: 0.6958 | Train Acc: 0.5313 | Val Acc: 0.5753\n",
            "Epoch: 3/20...  | Train Loss: 0.6968 | Val Loss: 0.6947 | Train Acc: 0.5492 | Val Acc: 0.5612\n",
            "Epoch: 4/20...  | Train Loss: 0.6958 | Val Loss: 0.6939 | Train Acc: 0.5518 | Val Acc: 0.5665\n",
            "Epoch: 5/20...  | Train Loss: 0.6949 | Val Loss: 0.6932 | Train Acc: 0.5571 | Val Acc: 0.5685\n",
            "Epoch: 6/20...  | Train Loss: 0.6941 | Val Loss: 0.6923 | Train Acc: 0.5676 | Val Acc: 0.5806\n",
            "Epoch: 7/20...  | Train Loss: 0.6932 | Val Loss: 0.6917 | Train Acc: 0.5752 | Val Acc: 0.5847\n",
            "Epoch: 8/20...  | Train Loss: 0.6924 | Val Loss: 0.6910 | Train Acc: 0.5808 | Val Acc: 0.5941\n",
            "Epoch: 9/20...  | Train Loss: 0.6916 | Val Loss: 0.6904 | Train Acc: 0.5934 | Val Acc: 0.6008\n",
            "Epoch: 10/20...  | Train Loss: 0.6908 | Val Loss: 0.6896 | Train Acc: 0.6034 | Val Acc: 0.6142\n",
            "Epoch: 11/20...  | Train Loss: 0.6899 | Val Loss: 0.6888 | Train Acc: 0.6201 | Val Acc: 0.6378\n",
            "Epoch: 12/20...  | Train Loss: 0.6890 | Val Loss: 0.6877 | Train Acc: 0.6406 | Val Acc: 0.6559\n",
            "Epoch: 13/20...  | Train Loss: 0.6881 | Val Loss: 0.6869 | Train Acc: 0.6470 | Val Acc: 0.6640\n",
            "Epoch: 14/20...  | Train Loss: 0.6871 | Val Loss: 0.6858 | Train Acc: 0.6695 | Val Acc: 0.6862\n",
            "Epoch: 15/20...  | Train Loss: 0.6859 | Val Loss: 0.6846 | Train Acc: 0.6845 | Val Acc: 0.7063\n",
            "Epoch: 16/20...  | Train Loss: 0.6847 | Val Loss: 0.6831 | Train Acc: 0.6997 | Val Acc: 0.7305\n",
            "Epoch: 17/20...  | Train Loss: 0.6833 | Val Loss: 0.6818 | Train Acc: 0.7201 | Val Acc: 0.7460\n",
            "Epoch: 18/20...  | Train Loss: 0.6818 | Val Loss: 0.6802 | Train Acc: 0.7233 | Val Acc: 0.7621\n",
            "Epoch: 19/20...  | Train Loss: 0.6800 | Val Loss: 0.6784 | Train Acc: 0.7469 | Val Acc: 0.7648\n",
            "Epoch: 20/20...  | Train Loss: 0.6782 | Val Loss: 0.6763 | Train Acc: 0.7514 | Val Acc: 0.7762\n",
            "Epoch: 1/20...  | Train Loss: 0.7340 | Val Loss: 0.7251 | Train Acc: 0.4999 | Val Acc: 0.5020\n",
            "Epoch: 2/20...  | Train Loss: 0.7196 | Val Loss: 0.7127 | Train Acc: 0.4999 | Val Acc: 0.5040\n",
            "Epoch: 3/20...  | Train Loss: 0.7095 | Val Loss: 0.7041 | Train Acc: 0.5000 | Val Acc: 0.5047\n",
            "Epoch: 4/20...  | Train Loss: 0.7022 | Val Loss: 0.6980 | Train Acc: 0.4936 | Val Acc: 0.5047\n",
            "Epoch: 5/20...  | Train Loss: 0.6962 | Val Loss: 0.6928 | Train Acc: 0.5280 | Val Acc: 0.5444\n",
            "Epoch: 6/20...  | Train Loss: 0.6912 | Val Loss: 0.6880 | Train Acc: 0.5699 | Val Acc: 0.5853\n",
            "Epoch: 7/20...  | Train Loss: 0.6868 | Val Loss: 0.6836 | Train Acc: 0.6083 | Val Acc: 0.6183\n",
            "Epoch: 8/20...  | Train Loss: 0.6826 | Val Loss: 0.6791 | Train Acc: 0.6334 | Val Acc: 0.6304\n",
            "Epoch: 9/20...  | Train Loss: 0.6784 | Val Loss: 0.6750 | Train Acc: 0.6366 | Val Acc: 0.6331\n",
            "Epoch: 10/20...  | Train Loss: 0.6743 | Val Loss: 0.6708 | Train Acc: 0.6320 | Val Acc: 0.6310\n",
            "Epoch: 11/20...  | Train Loss: 0.6700 | Val Loss: 0.6656 | Train Acc: 0.6303 | Val Acc: 0.6358\n",
            "Epoch: 12/20...  | Train Loss: 0.6654 | Val Loss: 0.6607 | Train Acc: 0.6237 | Val Acc: 0.6337\n",
            "Epoch: 13/20...  | Train Loss: 0.6606 | Val Loss: 0.6555 | Train Acc: 0.6121 | Val Acc: 0.6337\n",
            "Epoch: 14/20...  | Train Loss: 0.6557 | Val Loss: 0.6502 | Train Acc: 0.6177 | Val Acc: 0.6458\n",
            "Epoch: 15/20...  | Train Loss: 0.6506 | Val Loss: 0.6449 | Train Acc: 0.6290 | Val Acc: 0.6687\n",
            "Epoch: 16/20...  | Train Loss: 0.6455 | Val Loss: 0.6404 | Train Acc: 0.6467 | Val Acc: 0.6888\n",
            "Epoch: 17/20...  | Train Loss: 0.6403 | Val Loss: 0.6343 | Train Acc: 0.6716 | Val Acc: 0.7077\n",
            "Epoch: 18/20...  | Train Loss: 0.6352 | Val Loss: 0.6288 | Train Acc: 0.6977 | Val Acc: 0.7352\n",
            "Epoch: 19/20...  | Train Loss: 0.6301 | Val Loss: 0.6238 | Train Acc: 0.7200 | Val Acc: 0.7574\n",
            "Epoch: 20/20...  | Train Loss: 0.6250 | Val Loss: 0.6186 | Train Acc: 0.7367 | Val Acc: 0.7655\n",
            "Epoch: 1/20...  | Train Loss: 0.6936 | Val Loss: 0.6932 | Train Acc: 0.5697 | Val Acc: 0.5491\n",
            "Epoch: 2/20...  | Train Loss: 0.6923 | Val Loss: 0.6918 | Train Acc: 0.5748 | Val Acc: 0.5558\n",
            "Epoch: 3/20...  | Train Loss: 0.6910 | Val Loss: 0.6905 | Train Acc: 0.5654 | Val Acc: 0.5665\n",
            "Epoch: 4/20...  | Train Loss: 0.6897 | Val Loss: 0.6893 | Train Acc: 0.5842 | Val Acc: 0.5786\n",
            "Epoch: 5/20...  | Train Loss: 0.6885 | Val Loss: 0.6879 | Train Acc: 0.6060 | Val Acc: 0.5867\n",
            "Epoch: 6/20...  | Train Loss: 0.6873 | Val Loss: 0.6865 | Train Acc: 0.6113 | Val Acc: 0.5974\n",
            "Epoch: 7/20...  | Train Loss: 0.6860 | Val Loss: 0.6853 | Train Acc: 0.6230 | Val Acc: 0.6001\n",
            "Epoch: 8/20...  | Train Loss: 0.6847 | Val Loss: 0.6839 | Train Acc: 0.6171 | Val Acc: 0.6136\n",
            "Epoch: 9/20...  | Train Loss: 0.6833 | Val Loss: 0.6824 | Train Acc: 0.6422 | Val Acc: 0.6176\n",
            "Epoch: 10/20...  | Train Loss: 0.6819 | Val Loss: 0.6809 | Train Acc: 0.6364 | Val Acc: 0.6331\n",
            "Epoch: 11/20...  | Train Loss: 0.6805 | Val Loss: 0.6794 | Train Acc: 0.6466 | Val Acc: 0.6431\n",
            "Epoch: 12/20...  | Train Loss: 0.6790 | Val Loss: 0.6780 | Train Acc: 0.6660 | Val Acc: 0.6546\n",
            "Epoch: 13/20...  | Train Loss: 0.6774 | Val Loss: 0.6763 | Train Acc: 0.6580 | Val Acc: 0.6673\n",
            "Epoch: 14/20...  | Train Loss: 0.6758 | Val Loss: 0.6743 | Train Acc: 0.6698 | Val Acc: 0.6761\n",
            "Epoch: 15/20...  | Train Loss: 0.6740 | Val Loss: 0.6725 | Train Acc: 0.6915 | Val Acc: 0.6788\n",
            "Epoch: 16/20...  | Train Loss: 0.6722 | Val Loss: 0.6706 | Train Acc: 0.6869 | Val Acc: 0.6875\n",
            "Epoch: 17/20...  | Train Loss: 0.6702 | Val Loss: 0.6685 | Train Acc: 0.7007 | Val Acc: 0.6976\n",
            "Epoch: 18/20...  | Train Loss: 0.6682 | Val Loss: 0.6663 | Train Acc: 0.7100 | Val Acc: 0.7077\n",
            "Epoch: 19/20...  | Train Loss: 0.6661 | Val Loss: 0.6640 | Train Acc: 0.7217 | Val Acc: 0.7117\n",
            "Epoch: 20/20...  | Train Loss: 0.6637 | Val Loss: 0.6615 | Train Acc: 0.7307 | Val Acc: 0.7258\n",
            "Epoch: 1/20...  | Train Loss: 0.7001 | Val Loss: 0.6974 | Train Acc: 0.5056 | Val Acc: 0.4973\n",
            "Epoch: 2/20...  | Train Loss: 0.6939 | Val Loss: 0.6919 | Train Acc: 0.4977 | Val Acc: 0.4946\n",
            "Epoch: 3/20...  | Train Loss: 0.6880 | Val Loss: 0.6865 | Train Acc: 0.5004 | Val Acc: 0.4946\n",
            "Epoch: 4/20...  | Train Loss: 0.6825 | Val Loss: 0.6815 | Train Acc: 0.4934 | Val Acc: 0.4946\n",
            "Epoch: 5/20...  | Train Loss: 0.6770 | Val Loss: 0.6760 | Train Acc: 0.4977 | Val Acc: 0.4973\n",
            "Epoch: 6/20...  | Train Loss: 0.6718 | Val Loss: 0.6704 | Train Acc: 0.4983 | Val Acc: 0.5013\n",
            "Epoch: 7/20...  | Train Loss: 0.6666 | Val Loss: 0.6662 | Train Acc: 0.5073 | Val Acc: 0.5000\n",
            "Epoch: 8/20...  | Train Loss: 0.6616 | Val Loss: 0.6615 | Train Acc: 0.5109 | Val Acc: 0.5060\n",
            "Epoch: 9/20...  | Train Loss: 0.6564 | Val Loss: 0.6562 | Train Acc: 0.5199 | Val Acc: 0.5215\n",
            "Epoch: 10/20...  | Train Loss: 0.6512 | Val Loss: 0.6509 | Train Acc: 0.5320 | Val Acc: 0.5323\n",
            "Epoch: 11/20...  | Train Loss: 0.6460 | Val Loss: 0.6456 | Train Acc: 0.5448 | Val Acc: 0.5390\n",
            "Epoch: 12/20...  | Train Loss: 0.6407 | Val Loss: 0.6404 | Train Acc: 0.5832 | Val Acc: 0.6075\n",
            "Epoch: 13/20...  | Train Loss: 0.6352 | Val Loss: 0.6350 | Train Acc: 0.6445 | Val Acc: 0.6633\n",
            "Epoch: 14/20...  | Train Loss: 0.6295 | Val Loss: 0.6291 | Train Acc: 0.6965 | Val Acc: 0.7231\n",
            "Epoch: 15/20...  | Train Loss: 0.6236 | Val Loss: 0.6232 | Train Acc: 0.7383 | Val Acc: 0.7466\n",
            "Epoch: 16/20...  | Train Loss: 0.6174 | Val Loss: 0.6171 | Train Acc: 0.7507 | Val Acc: 0.7560\n",
            "Epoch: 17/20...  | Train Loss: 0.6111 | Val Loss: 0.6103 | Train Acc: 0.7576 | Val Acc: 0.7655\n",
            "Epoch: 18/20...  | Train Loss: 0.6046 | Val Loss: 0.6045 | Train Acc: 0.7736 | Val Acc: 0.7715\n",
            "Epoch: 19/20...  | Train Loss: 0.5977 | Val Loss: 0.5976 | Train Acc: 0.7800 | Val Acc: 0.7829\n",
            "Epoch: 20/20...  | Train Loss: 0.5907 | Val Loss: 0.5905 | Train Acc: 0.7880 | Val Acc: 0.7944\n"
          ],
          "name": "stdout"
        }
      ]
    },
    {
      "cell_type": "code",
      "metadata": {
        "id": "K883BGjMaCIq",
        "colab": {
          "base_uri": "https://localhost:8080/",
          "height": 507
        },
        "outputId": "b780114d-0ed6-44c4-e92c-f7529d811eed"
      },
      "source": [
        "H_list = [2,4,6,8,10]\n",
        "plt.rcParams.update({'font.size': 15})\n",
        "plt.figure(figsize=(10,8))\n",
        "for i in range(5):\n",
        "    # train_loss_list2 = [x/len(train_loader) for x in train_loss_list]\n",
        "    # valid_loss_list2 = [x/len(validation_loader) for x in valid_loss_list]\n",
        "    plt.plot(dict_valL[H_list[i]],label=\"H_size_\" + str(H_list[i]),linewidth=2)\n",
        "    #plt.plot(val_acc_l,c='r',label=\"Validation Acc\",linewidth=2)\n",
        "plt.xlabel('Epochs')\n",
        "plt.ylabel('Loss')\n",
        "plt.xlim(1,20)\n",
        "plt.legend()\n",
        "plt.show()"
      ],
      "execution_count": null,
      "outputs": [
        {
          "output_type": "display_data",
          "data": {
            "image/png": "[encoded data removed]",
            "text/plain": [
              "<Figure size 720x576 with 1 Axes>"
            ]
          },
          "metadata": {
            "tags": [],
            "needs_background": "light"
          }
        }
      ]
    },
    {
      "cell_type": "code",
      "metadata": {
        "id": "tSXh3B_OduaD",
        "colab": {
          "base_uri": "https://localhost:8080/"
        },
        "outputId": "a480870d-35a6-4b55-8629-e14da5b46184"
      },
      "source": [
        "lr_list = [1e-5,1e-4,1e-3,1e-2,1e-1]\n",
        "dict_trainL = {}\n",
        "dict_valL = {}\n",
        "dict_trainAcc={}\n",
        "dict_valAcc={}\n",
        "\n",
        "for lr in lr_list:\n",
        "    D_in = 2; H = 4; D_out = 2\n",
        "    model = mymodel(D_in, H, D_out)\n",
        "\n",
        "    criterion = torch.nn.CrossEntropyLoss()\n",
        "    optimizer = torch.optim.SGD(model.parameters(), lr=lr)\n",
        "    if torch.cuda.is_available():\n",
        "        model.to('cuda')\n",
        "    # Initialize steps\n",
        "    step = 0\n",
        "    epochs=20\n",
        "    train_loss_list = []\n",
        "    valid_loss_list = []\n",
        "    train_acc_l = []\n",
        "    val_acc_l = []\n",
        "    # Iterate over number of epochs\n",
        "    for e in range(epochs):\n",
        "        running_loss_train = 0 \n",
        "        running_loss_valid = 0\n",
        "        validation_correct = 0\n",
        "        validation_total = 0\n",
        "\n",
        "        training_correct = 0\n",
        "        training_total = 0  \n",
        "                      \n",
        "        \n",
        "\n",
        "        # Iterate over the entire training dataset\n",
        "        # one batch per iteration \n",
        "        for inputs, labels in train_loader:\n",
        "\n",
        "            # Clear the gradients of all optimized tensors\n",
        "            optimizer.zero_grad()\n",
        "            if torch.cuda.is_available():\n",
        "                inputs, labels = inputs.to('cuda'), labels.to('cuda')   \n",
        "            else:\n",
        "                inputs, labels = input_images, labels        \n",
        "            # Forward pass\n",
        "            model.train()\n",
        "            outputs = model.forward(inputs)\n",
        "            _, predicted = torch.max(outputs.data, 1)\n",
        "            #print(predicted,labels)\n",
        "        \n",
        "            #print(predicted,labels)\n",
        "\n",
        "            training_total += labels.size(0)\n",
        "            training_correct += (predicted == labels).sum().item() \n",
        "            #no_grad() prevents tracking history (and using memory)\n",
        "            # with torch.no_grad(): \n",
        "                \n",
        "            #     # Iterate over the entire validation dataset\n",
        "            #     for input_images3, labels3 in train_loader:\n",
        "                    \n",
        "            #         # Enable CUDA: use GPUs for model computation\n",
        "            #         if torch.cuda.is_available():\n",
        "            #             input_images3, labels3 = input_images3.to('cuda'), labels3.to('cuda')\n",
        "                    \n",
        "            #         # Make predictions \n",
        "            #         outputs3 = model(input_images3)\n",
        "            #         #print(outputs3)\n",
        "            #         _, predicted3 = torch.max(outputs3.data, 1)\n",
        "            #         #print(predicted2,labels2)\n",
        "                    \n",
        "            #         # Count total and correct predictions\n",
        "      \n",
        "\n",
        "            \n",
        "            train_loss = criterion(outputs, labels)\n",
        "            \n",
        "            train_acc = training_correct / training_total\n",
        "            # Backward pass\n",
        "            train_loss.backward()\n",
        "            optimizer.step()\n",
        "            \n",
        "            # Calculate and print running training loss\n",
        "            running_loss_train += train_loss.item()   \n",
        "            \n",
        "        with torch.no_grad():    \n",
        "                #count=0         \n",
        "                # Iterate over the entire validation dataset\n",
        "                for input_images2, labels2 in validation_loader:\n",
        "                    \n",
        "                    # Enable CUDA: use GPUs for model computation\n",
        "                    #count+=1\n",
        "                    #print(count)\n",
        "                    if torch.cuda.is_available():\n",
        "                        input_images2, labels2 = input_images2.to('cuda'), labels2.to('cuda')\n",
        "                    \n",
        "                    # Make predictions \n",
        "                    outputs2 = model.forward(input_images2)\n",
        "                    _, predicted2 = torch.max(outputs2.data, 1)\n",
        "                    #print(predicted2,labels2)\n",
        "                    \n",
        "                    # Count total and correct predictions\n",
        "                    validation_total += labels2.size(0)\n",
        "                    validation_correct += (predicted2 == labels2).sum().item()   \n",
        "                    valid_loss = criterion(outputs2, labels2)\n",
        "                    val_acc = validation_correct / validation_total\n",
        "                    running_loss_valid += valid_loss.item()  \n",
        "        \n",
        "        print(\"Epoch: {}/{}... \".format(e+1, epochs),\n",
        "              \"| Train Loss: {:.4f}\".format(running_loss_train/len(train_loader)),\n",
        "              \"| Val Loss: {:.4f}\".format(running_loss_valid/len(validation_loader)),\n",
        "              \"| Train Acc: {:.4f}\".format(train_acc),\n",
        "              \"| Val Acc: {:.4f}\".format(val_acc))\n",
        "        train_loss_list.append(running_loss_train/len(train_loader))\n",
        "        valid_loss_list.append(running_loss_valid/len(validation_loader))\n",
        "        train_acc_l.append(train_acc)\n",
        "        val_acc_l.append(val_acc)\n",
        "              \n",
        "        running_loss_train = 0\n",
        "        running_loss_valid = 0\n",
        "    dict_trainL[lr] = train_loss_list\n",
        "    dict_valL[lr] = valid_loss_list\n",
        "    dict_trainAcc[lr] = train_acc\n",
        "    dict_valAcc[lr] = val_acc"
      ],
      "execution_count": null,
      "outputs": [
        {
          "output_type": "stream",
          "text": [
            "Epoch: 1/20...  | Train Loss: 0.6928 | Val Loss: 0.6915 | Train Acc: 0.5619 | Val Acc: 0.5638\n",
            "Epoch: 2/20...  | Train Loss: 0.6927 | Val Loss: 0.6916 | Train Acc: 0.5625 | Val Acc: 0.5638\n",
            "Epoch: 3/20...  | Train Loss: 0.6927 | Val Loss: 0.6919 | Train Acc: 0.5629 | Val Acc: 0.5638\n",
            "Epoch: 4/20...  | Train Loss: 0.6927 | Val Loss: 0.6917 | Train Acc: 0.5638 | Val Acc: 0.5652\n",
            "Epoch: 5/20...  | Train Loss: 0.6927 | Val Loss: 0.6917 | Train Acc: 0.5645 | Val Acc: 0.5638\n",
            "Epoch: 6/20...  | Train Loss: 0.6927 | Val Loss: 0.6915 | Train Acc: 0.5649 | Val Acc: 0.5659\n",
            "Epoch: 7/20...  | Train Loss: 0.6926 | Val Loss: 0.6916 | Train Acc: 0.5659 | Val Acc: 0.5665\n",
            "Epoch: 8/20...  | Train Loss: 0.6926 | Val Loss: 0.6919 | Train Acc: 0.5671 | Val Acc: 0.5659\n",
            "Epoch: 9/20...  | Train Loss: 0.6926 | Val Loss: 0.6916 | Train Acc: 0.5671 | Val Acc: 0.5692\n",
            "Epoch: 10/20...  | Train Loss: 0.6926 | Val Loss: 0.6917 | Train Acc: 0.5679 | Val Acc: 0.5685\n",
            "Epoch: 11/20...  | Train Loss: 0.6926 | Val Loss: 0.6918 | Train Acc: 0.5685 | Val Acc: 0.5685\n",
            "Epoch: 12/20...  | Train Loss: 0.6925 | Val Loss: 0.6914 | Train Acc: 0.5691 | Val Acc: 0.5719\n",
            "Epoch: 13/20...  | Train Loss: 0.6925 | Val Loss: 0.6913 | Train Acc: 0.5705 | Val Acc: 0.5712\n",
            "Epoch: 14/20...  | Train Loss: 0.6925 | Val Loss: 0.6916 | Train Acc: 0.5704 | Val Acc: 0.5706\n",
            "Epoch: 15/20...  | Train Loss: 0.6925 | Val Loss: 0.6913 | Train Acc: 0.5718 | Val Acc: 0.5733\n",
            "Epoch: 16/20...  | Train Loss: 0.6925 | Val Loss: 0.6914 | Train Acc: 0.5724 | Val Acc: 0.5726\n",
            "Epoch: 17/20...  | Train Loss: 0.6924 | Val Loss: 0.6917 | Train Acc: 0.5729 | Val Acc: 0.5706\n",
            "Epoch: 18/20...  | Train Loss: 0.6924 | Val Loss: 0.6913 | Train Acc: 0.5738 | Val Acc: 0.5726\n",
            "Epoch: 19/20...  | Train Loss: 0.6924 | Val Loss: 0.6912 | Train Acc: 0.5738 | Val Acc: 0.5746\n",
            "Epoch: 20/20...  | Train Loss: 0.6924 | Val Loss: 0.6915 | Train Acc: 0.5739 | Val Acc: 0.5733\n",
            "Epoch: 1/20...  | Train Loss: 0.7424 | Val Loss: 0.7373 | Train Acc: 0.4642 | Val Acc: 0.4765\n",
            "Epoch: 2/20...  | Train Loss: 0.7405 | Val Loss: 0.7355 | Train Acc: 0.4621 | Val Acc: 0.4765\n",
            "Epoch: 3/20...  | Train Loss: 0.7388 | Val Loss: 0.7345 | Train Acc: 0.4607 | Val Acc: 0.4738\n",
            "Epoch: 4/20...  | Train Loss: 0.7371 | Val Loss: 0.7341 | Train Acc: 0.4592 | Val Acc: 0.4684\n",
            "Epoch: 5/20...  | Train Loss: 0.7358 | Val Loss: 0.7311 | Train Acc: 0.4581 | Val Acc: 0.4711\n",
            "Epoch: 6/20...  | Train Loss: 0.7342 | Val Loss: 0.7300 | Train Acc: 0.4575 | Val Acc: 0.4677\n",
            "Epoch: 7/20...  | Train Loss: 0.7327 | Val Loss: 0.7292 | Train Acc: 0.4559 | Val Acc: 0.4637\n",
            "Epoch: 8/20...  | Train Loss: 0.7314 | Val Loss: 0.7273 | Train Acc: 0.4541 | Val Acc: 0.4630\n",
            "Epoch: 9/20...  | Train Loss: 0.7302 | Val Loss: 0.7263 | Train Acc: 0.4515 | Val Acc: 0.4603\n",
            "Epoch: 10/20...  | Train Loss: 0.7289 | Val Loss: 0.7246 | Train Acc: 0.4499 | Val Acc: 0.4610\n",
            "Epoch: 11/20...  | Train Loss: 0.7279 | Val Loss: 0.7245 | Train Acc: 0.4487 | Val Acc: 0.4583\n",
            "Epoch: 12/20...  | Train Loss: 0.7268 | Val Loss: 0.7238 | Train Acc: 0.4467 | Val Acc: 0.4509\n",
            "Epoch: 13/20...  | Train Loss: 0.7258 | Val Loss: 0.7213 | Train Acc: 0.4458 | Val Acc: 0.4543\n",
            "Epoch: 14/20...  | Train Loss: 0.7246 | Val Loss: 0.7211 | Train Acc: 0.4449 | Val Acc: 0.4509\n",
            "Epoch: 15/20...  | Train Loss: 0.7238 | Val Loss: 0.7208 | Train Acc: 0.4439 | Val Acc: 0.4476\n",
            "Epoch: 16/20...  | Train Loss: 0.7227 | Val Loss: 0.7197 | Train Acc: 0.4434 | Val Acc: 0.4456\n",
            "Epoch: 17/20...  | Train Loss: 0.7220 | Val Loss: 0.7188 | Train Acc: 0.4415 | Val Acc: 0.4462\n",
            "Epoch: 18/20...  | Train Loss: 0.7211 | Val Loss: 0.7184 | Train Acc: 0.4404 | Val Acc: 0.4442\n",
            "Epoch: 19/20...  | Train Loss: 0.7203 | Val Loss: 0.7174 | Train Acc: 0.4386 | Val Acc: 0.4462\n",
            "Epoch: 20/20...  | Train Loss: 0.7195 | Val Loss: 0.7164 | Train Acc: 0.4372 | Val Acc: 0.4442\n",
            "Epoch: 1/20...  | Train Loss: 0.7139 | Val Loss: 0.7114 | Train Acc: 0.4996 | Val Acc: 0.4946\n",
            "Epoch: 2/20...  | Train Loss: 0.7070 | Val Loss: 0.7055 | Train Acc: 0.4999 | Val Acc: 0.4960\n",
            "Epoch: 3/20...  | Train Loss: 0.7028 | Val Loss: 0.7023 | Train Acc: 0.4996 | Val Acc: 0.4946\n",
            "Epoch: 4/20...  | Train Loss: 0.7001 | Val Loss: 0.7002 | Train Acc: 0.4721 | Val Acc: 0.4200\n",
            "Epoch: 5/20...  | Train Loss: 0.6983 | Val Loss: 0.6981 | Train Acc: 0.4019 | Val Acc: 0.3878\n",
            "Epoch: 6/20...  | Train Loss: 0.6972 | Val Loss: 0.6971 | Train Acc: 0.3757 | Val Acc: 0.3716\n",
            "Epoch: 7/20...  | Train Loss: 0.6964 | Val Loss: 0.6964 | Train Acc: 0.3691 | Val Acc: 0.3770\n",
            "Epoch: 8/20...  | Train Loss: 0.6958 | Val Loss: 0.6959 | Train Acc: 0.3756 | Val Acc: 0.3891\n",
            "Epoch: 9/20...  | Train Loss: 0.6953 | Val Loss: 0.6956 | Train Acc: 0.3936 | Val Acc: 0.4026\n",
            "Epoch: 10/20...  | Train Loss: 0.6950 | Val Loss: 0.6952 | Train Acc: 0.4069 | Val Acc: 0.4200\n",
            "Epoch: 11/20...  | Train Loss: 0.6947 | Val Loss: 0.6949 | Train Acc: 0.4309 | Val Acc: 0.4341\n",
            "Epoch: 12/20...  | Train Loss: 0.6945 | Val Loss: 0.6945 | Train Acc: 0.4381 | Val Acc: 0.4476\n",
            "Epoch: 13/20...  | Train Loss: 0.6943 | Val Loss: 0.6946 | Train Acc: 0.4497 | Val Acc: 0.4543\n",
            "Epoch: 14/20...  | Train Loss: 0.6941 | Val Loss: 0.6942 | Train Acc: 0.4591 | Val Acc: 0.4644\n",
            "Epoch: 15/20...  | Train Loss: 0.6940 | Val Loss: 0.6941 | Train Acc: 0.4631 | Val Acc: 0.4691\n",
            "Epoch: 16/20...  | Train Loss: 0.6939 | Val Loss: 0.6941 | Train Acc: 0.4741 | Val Acc: 0.4718\n",
            "Epoch: 17/20...  | Train Loss: 0.6938 | Val Loss: 0.6939 | Train Acc: 0.4678 | Val Acc: 0.4751\n",
            "Epoch: 18/20...  | Train Loss: 0.6937 | Val Loss: 0.6939 | Train Acc: 0.4824 | Val Acc: 0.4731\n",
            "Epoch: 19/20...  | Train Loss: 0.6936 | Val Loss: 0.6938 | Train Acc: 0.4867 | Val Acc: 0.4765\n",
            "Epoch: 20/20...  | Train Loss: 0.6935 | Val Loss: 0.6937 | Train Acc: 0.4831 | Val Acc: 0.4798\n",
            "Epoch: 1/20...  | Train Loss: 0.6939 | Val Loss: 0.6884 | Train Acc: 0.5180 | Val Acc: 0.5706\n",
            "Epoch: 2/20...  | Train Loss: 0.6833 | Val Loss: 0.6755 | Train Acc: 0.5900 | Val Acc: 0.6700\n",
            "Epoch: 3/20...  | Train Loss: 0.6652 | Val Loss: 0.6524 | Train Acc: 0.6954 | Val Acc: 0.7386\n",
            "Epoch: 4/20...  | Train Loss: 0.6303 | Val Loss: 0.6068 | Train Acc: 0.7883 | Val Acc: 0.8253\n",
            "Epoch: 5/20...  | Train Loss: 0.5700 | Val Loss: 0.5399 | Train Acc: 0.8586 | Val Acc: 0.8629\n",
            "Epoch: 6/20...  | Train Loss: 0.4987 | Val Loss: 0.4761 | Train Acc: 0.8760 | Val Acc: 0.8636\n",
            "Epoch: 7/20...  | Train Loss: 0.4372 | Val Loss: 0.4221 | Train Acc: 0.8807 | Val Acc: 0.8703\n",
            "Epoch: 8/20...  | Train Loss: 0.3886 | Val Loss: 0.3782 | Train Acc: 0.8859 | Val Acc: 0.8824\n",
            "Epoch: 9/20...  | Train Loss: 0.3497 | Val Loss: 0.3445 | Train Acc: 0.8939 | Val Acc: 0.8898\n",
            "Epoch: 10/20...  | Train Loss: 0.3183 | Val Loss: 0.3187 | Train Acc: 0.8982 | Val Acc: 0.8952\n",
            "Epoch: 11/20...  | Train Loss: 0.2928 | Val Loss: 0.2964 | Train Acc: 0.9065 | Val Acc: 0.9005\n",
            "Epoch: 12/20...  | Train Loss: 0.2718 | Val Loss: 0.2764 | Train Acc: 0.9116 | Val Acc: 0.9059\n",
            "Epoch: 13/20...  | Train Loss: 0.2539 | Val Loss: 0.2591 | Train Acc: 0.9170 | Val Acc: 0.9167\n",
            "Epoch: 14/20...  | Train Loss: 0.2376 | Val Loss: 0.2423 | Train Acc: 0.9225 | Val Acc: 0.9234\n",
            "Epoch: 15/20...  | Train Loss: 0.2230 | Val Loss: 0.2281 | Train Acc: 0.9276 | Val Acc: 0.9294\n",
            "Epoch: 16/20...  | Train Loss: 0.2096 | Val Loss: 0.2159 | Train Acc: 0.9314 | Val Acc: 0.9341\n",
            "Epoch: 17/20...  | Train Loss: 0.1970 | Val Loss: 0.2032 | Train Acc: 0.9381 | Val Acc: 0.9422\n",
            "Epoch: 18/20...  | Train Loss: 0.1862 | Val Loss: 0.1914 | Train Acc: 0.9448 | Val Acc: 0.9456\n",
            "Epoch: 19/20...  | Train Loss: 0.1755 | Val Loss: 0.1806 | Train Acc: 0.9522 | Val Acc: 0.9496\n",
            "Epoch: 20/20...  | Train Loss: 0.1648 | Val Loss: 0.1685 | Train Acc: 0.9568 | Val Acc: 0.9556\n",
            "Epoch: 1/20...  | Train Loss: 0.5617 | Val Loss: 0.4046 | Train Acc: 0.7049 | Val Acc: 0.8360\n",
            "Epoch: 2/20...  | Train Loss: 0.3752 | Val Loss: 0.3624 | Train Acc: 0.8299 | Val Acc: 0.8300\n",
            "Epoch: 3/20...  | Train Loss: 0.3618 | Val Loss: 0.3570 | Train Acc: 0.8335 | Val Acc: 0.8320\n",
            "Epoch: 4/20...  | Train Loss: 0.3619 | Val Loss: 0.3575 | Train Acc: 0.8308 | Val Acc: 0.8313\n",
            "Epoch: 5/20...  | Train Loss: 0.3618 | Val Loss: 0.3568 | Train Acc: 0.8304 | Val Acc: 0.8320\n",
            "Epoch: 6/20...  | Train Loss: 0.3612 | Val Loss: 0.3649 | Train Acc: 0.8291 | Val Acc: 0.8353\n",
            "Epoch: 7/20...  | Train Loss: 0.3606 | Val Loss: 0.3605 | Train Acc: 0.8281 | Val Acc: 0.8306\n",
            "Epoch: 8/20...  | Train Loss: 0.3606 | Val Loss: 0.3564 | Train Acc: 0.8320 | Val Acc: 0.8239\n",
            "Epoch: 9/20...  | Train Loss: 0.3594 | Val Loss: 0.3680 | Train Acc: 0.8298 | Val Acc: 0.8253\n",
            "Epoch: 10/20...  | Train Loss: 0.3604 | Val Loss: 0.3634 | Train Acc: 0.8298 | Val Acc: 0.8320\n",
            "Epoch: 11/20...  | Train Loss: 0.3608 | Val Loss: 0.3625 | Train Acc: 0.8309 | Val Acc: 0.8353\n",
            "Epoch: 12/20...  | Train Loss: 0.3609 | Val Loss: 0.3563 | Train Acc: 0.8318 | Val Acc: 0.8320\n",
            "Epoch: 13/20...  | Train Loss: 0.3612 | Val Loss: 0.3638 | Train Acc: 0.8304 | Val Acc: 0.8246\n",
            "Epoch: 14/20...  | Train Loss: 0.3604 | Val Loss: 0.3570 | Train Acc: 0.8298 | Val Acc: 0.8300\n",
            "Epoch: 15/20...  | Train Loss: 0.3597 | Val Loss: 0.3623 | Train Acc: 0.8287 | Val Acc: 0.8246\n",
            "Epoch: 16/20...  | Train Loss: 0.3609 | Val Loss: 0.3610 | Train Acc: 0.8298 | Val Acc: 0.8233\n",
            "Epoch: 17/20...  | Train Loss: 0.3605 | Val Loss: 0.3601 | Train Acc: 0.8288 | Val Acc: 0.8306\n",
            "Epoch: 18/20...  | Train Loss: 0.3606 | Val Loss: 0.3595 | Train Acc: 0.8321 | Val Acc: 0.8306\n",
            "Epoch: 19/20...  | Train Loss: 0.3610 | Val Loss: 0.3585 | Train Acc: 0.8320 | Val Acc: 0.8273\n",
            "Epoch: 20/20...  | Train Loss: 0.3594 | Val Loss: 0.3616 | Train Acc: 0.8314 | Val Acc: 0.8280\n"
          ],
          "name": "stdout"
        }
      ]
    },
    {
      "cell_type": "code",
      "metadata": {
        "id": "AkPYoQrKD2ix",
        "colab": {
          "base_uri": "https://localhost:8080/",
          "height": 507
        },
        "outputId": "f515b38a-6c15-48aa-93e5-b72404c3a19e"
      },
      "source": [
        "lr_list = [1e-5,1e-4,1e-3,1e-2,1e-1]\n",
        "plt.rcParams.update({'font.size': 15})\n",
        "plt.figure(figsize=(10,8))\n",
        "for i in range(5):\n",
        "    # train_loss_list2 = [x/len(train_loader) for x in train_loss_list]\n",
        "    # valid_loss_list2 = [x/len(validation_loader) for x in valid_loss_list]\n",
        "    plt.plot(dict_valL[lr_list[i]],label=\"lr_\" + str(lr_list[i]),linewidth=2)\n",
        "    #plt.plot(val_acc_l,c='r',label=\"Validation Acc\",linewidth=2)\n",
        "plt.xlabel('Epochs')\n",
        "plt.ylabel('Loss')\n",
        "plt.xlim(1,20)\n",
        "plt.legend()\n",
        "plt.show()\n"
      ],
      "execution_count": null,
      "outputs": [
        {
          "output_type": "display_data",
          "data": {
            "image/png": "[encoded data removed]",
            "text/plain": [
              "<Figure size 720x576 with 1 Axes>"
            ]
          },
          "metadata": {
            "tags": [],
            "needs_background": "light"
          }
        }
      ]
    },
    {
      "cell_type": "markdown",
      "metadata": {
        "id": "agS7yF76mg-J"
      },
      "source": [
        "So best model is 0.01 lr with 10 hidden layers units"
      ]
    },
    {
      "cell_type": "code",
      "metadata": {
        "id": "YwK2dyTWml30"
      },
      "source": [
        "D_in = 2; H = 10; D_out = 2\n",
        "model = mymodel(D_in, H, D_out)\n",
        "criterion = torch.nn.CrossEntropyLoss()\n",
        "optimizer = torch.optim.SGD(model.parameters(), lr=0.01)\n",
        "if torch.cuda.is_available():\n",
        "    model.to('cuda')\n",
        "step = 0\n",
        "epochs=100\n",
        "for e in range(epochs):   \n",
        "    for inputs, labels in train_loader:\n",
        "        optimizer.zero_grad()\n",
        "        if torch.cuda.is_available():\n",
        "            inputs, labels = inputs.to('cuda'), labels.to('cuda')   \n",
        "        else:\n",
        "            inputs, labels = input_images, labels        \n",
        "        model.train()\n",
        "        outputs = model.forward(inputs)\n",
        "        train_loss = criterion(outputs, labels)\n",
        "\n",
        "        train_loss.backward()\n",
        "        optimizer.step()"
      ],
      "execution_count": null,
      "outputs": []
    },
    {
      "cell_type": "code",
      "metadata": {
        "id": "f8DIxkmsZLuV"
      },
      "source": [
        "with torch.no_grad():  \n",
        "      labels_list=[]\n",
        "      pred_list=[] \n",
        "      inputs=[]   \n",
        "      for input_images2, labels2 in test_loader:\n",
        "          inputs.append(list((input_images2.cpu().detach().numpy().squeeze())))\n",
        "          if torch.cuda.is_available():\n",
        "              input_images2, labels2 = input_images2.to('cuda'), labels2.to('cuda')\n",
        "          \n",
        "          # Make predictions \n",
        "          outputs2 = model.forward(input_images2)\n",
        "          _, predicted2 = torch.max(outputs2.data, 1)\n",
        "          labels_list.append(labels2.cpu().detach().numpy()[0])\n",
        "          pred_list.append(predicted2.cpu().detach().numpy()[0])"
      ],
      "execution_count": null,
      "outputs": []
    },
    {
      "cell_type": "code",
      "metadata": {
        "id": "xbg_zipJgMzu",
        "colab": {
          "base_uri": "https://localhost:8080/",
          "height": 290
        },
        "outputId": "e280f4fa-67f4-4f1b-d1a3-813a7af53dc1"
      },
      "source": [
        "# labels_list\n",
        "# pred_list\n",
        "# scatter_x = np.array([1,2,3,4,5])\n",
        "# scatter_y = np.array([5,4,3,2,1])\n",
        "x = np.array(inputs)\n",
        "# group = np.array([1,3,2,1,3])\n",
        "cdict = {0: 'red', 1: 'blue'}\n",
        "\n",
        "fig, ax = plt.subplots()\n",
        "for i in range(len(pred_list)):\n",
        "    if (pred_list[i]==0):\n",
        "          plt.scatter(x[i][0],x[i][1],color='r')\n",
        "    else:\n",
        "          plt.scatter(x[i][0],x[i][1],color='b')\n",
        "plt.title(\"Result on tests data\")\n",
        "plt.show()"
      ],
      "execution_count": null,
      "outputs": [
        {
          "output_type": "display_data",
          "data": {
            "image/png": "[encoded data removed]",
            "text/plain": [
              "<Figure size 432x288 with 1 Axes>"
            ]
          },
          "metadata": {
            "tags": [],
            "needs_background": "light"
          }
        }
      ]
    },
    {
      "cell_type": "code",
      "metadata": {
        "id": "4sqYo-9U1lTD"
      },
      "source": [
        ""
      ],
      "execution_count": null,
      "outputs": []
    }
  ]
}